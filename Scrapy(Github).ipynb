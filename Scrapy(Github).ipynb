{
 "cells": [
  {
   "cell_type": "markdown",
   "metadata": {},
   "source": [
    "# Extracting data from a website using xpath and scrapy and saving it in JSON format"
   ]
  },
  {
   "cell_type": "code",
   "execution_count": 8,
   "metadata": {},
   "outputs": [],
   "source": [
    "import scrapy\n",
    "import logging"
   ]
  },
  {
   "cell_type": "code",
   "execution_count": 9,
   "metadata": {},
   "outputs": [
    {
     "data": {
      "text/plain": [
       "'3.7.6'"
      ]
     },
     "execution_count": 9,
     "metadata": {},
     "output_type": "execute_result"
    }
   ],
   "source": [
    "from IPython.core.interactiveshell import InteractiveShell\n",
    "InteractiveShell.ast_node_interactivity = \"all\"\n",
    "# Show Python version\n",
    "import platform\n",
    "platform.python_version()"
   ]
  },
  {
   "cell_type": "code",
   "execution_count": 10,
   "metadata": {},
   "outputs": [],
   "source": [
    "try:\n",
    "    import scrapy\n",
    "except:\n",
    "    !pip install scrapy\n",
    "    import scrapy\n",
    "from scrapy.crawler import CrawlerProcess"
   ]
  },
  {
   "cell_type": "code",
   "execution_count": 11,
   "metadata": {},
   "outputs": [],
   "source": [
    "import json\n",
    "\n",
    "\n",
    "class JsonWriterPipeline(object):\n",
    "\n",
    "    def open_spider(self, spider):\n",
    "        self.file = open('Doctors1.jl', 'w')\n",
    "\n",
    "    def close_spider(self, spider):\n",
    "        self.file.close()\n",
    "\n",
    "    def process_item(self, item, spider):\n",
    "        line = json.dumps(dict(item)) + \"\\n\"\n",
    "        self.file.write(line)\n",
    "        return item"
   ]
  },
  {
   "cell_type": "code",
   "execution_count": 12,
   "metadata": {},
   "outputs": [],
   "source": [
    "\n",
    "class QuotesSpider(scrapy.Spider):\n",
    "    name = \"quotes1\"\n",
    "    start_urls = [\n",
    "        'http://www.burjeel.com/abu-dhabi/doctors/'\n",
    "    ]\n",
    "    custom_settings = {\n",
    "        'LOG_LEVEL': logging.WARNING,\n",
    "        'ITEM_PIPELINES': {'__main__.JsonWriterPipeline': 1}, # Used for pipeline 1\n",
    "        'FEED_FORMAT':'json',                                 # Used for pipeline 2\n",
    "        'FEED_URI': 'Doctors1.json'                        # Used for pipeline 2\n",
    "    }\n",
    "    \n",
    "    def parse(self, response):\n",
    "        doctors_name = response.xpath(\"/html/body/div[3]/div/div[4]/div/div/a[1]/h4/text()\").extract()\n",
    "        Position = response.xpath(\"/html/body/div[3]/div/div[4]/div/div/a[2]/h5/text()\").extract()\n",
    "        for (d,p) in zip(doctors_name, Position):\n",
    "            scraped_info = {\n",
    "                # key:value\n",
    "                'Doctor': d,\n",
    "                'Position': p}\n",
    "            yield scraped_info"
   ]
  },
  {
   "cell_type": "code",
   "execution_count": 6,
   "metadata": {},
   "outputs": [
    {
     "name": "stderr",
     "output_type": "stream",
     "text": [
      "2020-04-04 23:20:09 [scrapy.utils.log] INFO: Scrapy 2.0.1 started (bot: scrapybot)\n",
      "2020-04-04 23:20:09 [scrapy.utils.log] INFO: Versions: lxml 4.5.0.0, libxml2 2.9.9, cssselect 1.1.0, parsel 1.5.2, w3lib 1.21.0, Twisted 20.3.0, Python 3.7.6 (default, Jan  8 2020, 20:23:39) [MSC v.1916 64 bit (AMD64)], pyOpenSSL 19.1.0 (OpenSSL 1.1.1d  10 Sep 2019), cryptography 2.8, Platform Windows-10-10.0.18362-SP0\n",
      "2020-04-04 23:20:09 [scrapy.utils.log] DEBUG: Using reactor: twisted.internet.selectreactor.SelectReactor\n",
      "2020-04-04 23:20:09 [scrapy.crawler] INFO: Overridden settings:\n",
      "{'FEED_FORMAT': 'json',\n",
      " 'FEED_URI': 'Doctors1.json',\n",
      " 'LOG_LEVEL': 30,\n",
      " 'USER_AGENT': 'Mozilla/4.0 (compatible; MSIE 7.0; Windows NT 5.1)'}\n"
     ]
    },
    {
     "data": {
      "text/plain": [
       "<Deferred at 0x284ffb57d48>"
      ]
     },
     "execution_count": 6,
     "metadata": {},
     "output_type": "execute_result"
    }
   ],
   "source": [
    "process = CrawlerProcess({\n",
    "    'USER_AGENT': 'Mozilla/4.0 (compatible; MSIE 7.0; Windows NT 5.1)'\n",
    "})\n",
    "\n",
    "process.crawl(QuotesSpider)\n",
    "process.start()"
   ]
  },
  {
   "cell_type": "code",
   "execution_count": 7,
   "metadata": {},
   "outputs": [
    {
     "data": {
      "text/html": [
       "<div>\n",
       "<style scoped>\n",
       "    .dataframe tbody tr th:only-of-type {\n",
       "        vertical-align: middle;\n",
       "    }\n",
       "\n",
       "    .dataframe tbody tr th {\n",
       "        vertical-align: top;\n",
       "    }\n",
       "\n",
       "    .dataframe thead th {\n",
       "        text-align: right;\n",
       "    }\n",
       "</style>\n",
       "<table border=\"1\" class=\"dataframe\">\n",
       "  <thead>\n",
       "    <tr style=\"text-align: right;\">\n",
       "      <th></th>\n",
       "      <th>Doctor</th>\n",
       "      <th>Position</th>\n",
       "    </tr>\n",
       "  </thead>\n",
       "  <tbody>\n",
       "    <tr>\n",
       "      <th>0</th>\n",
       "      <td>Dr. Yassin Ibrahim M. El-Shahat</td>\n",
       "      <td>Consultant - Nephrology / Chief Medical Officer</td>\n",
       "    </tr>\n",
       "    <tr>\n",
       "      <th>1</th>\n",
       "      <td>Prof. Dr. Iyad Hassan</td>\n",
       "      <td>Consultant - General and Endocrine Surgeon/ He...</td>\n",
       "    </tr>\n",
       "    <tr>\n",
       "      <th>2</th>\n",
       "      <td>Dr. Dipak Kamble</td>\n",
       "      <td>Specialist Radiologist</td>\n",
       "    </tr>\n",
       "    <tr>\n",
       "      <th>3</th>\n",
       "      <td>Dr.Mostafa Kamal Kotb Ali</td>\n",
       "      <td>Specialist - Orthopedic Surgery</td>\n",
       "    </tr>\n",
       "    <tr>\n",
       "      <th>4</th>\n",
       "      <td>Dr. Hussein Nasser Matlik</td>\n",
       "      <td>Consultant - Pediatric Neurology and Head of D...</td>\n",
       "    </tr>\n",
       "    <tr>\n",
       "      <th>...</th>\n",
       "      <td>...</td>\n",
       "      <td>...</td>\n",
       "    </tr>\n",
       "    <tr>\n",
       "      <th>202</th>\n",
       "      <td>Mr. Chandrashekar Nandi</td>\n",
       "      <td>Physiotherapist &amp; Sports Performance Enhanceme...</td>\n",
       "    </tr>\n",
       "    <tr>\n",
       "      <th>203</th>\n",
       "      <td>Dr. Radha Panchapakesan</td>\n",
       "      <td>Specialist - Anesthesiology</td>\n",
       "    </tr>\n",
       "    <tr>\n",
       "      <th>204</th>\n",
       "      <td>Joseph Basil C. Ruadap</td>\n",
       "      <td>Physiotherapy</td>\n",
       "    </tr>\n",
       "    <tr>\n",
       "      <th>205</th>\n",
       "      <td>Ms. Sikha Anna Sunny</td>\n",
       "      <td>Physiotherapy</td>\n",
       "    </tr>\n",
       "    <tr>\n",
       "      <th>206</th>\n",
       "      <td>Ms. Munmun Pandita</td>\n",
       "      <td>Physiotherapy</td>\n",
       "    </tr>\n",
       "  </tbody>\n",
       "</table>\n",
       "<p>207 rows × 2 columns</p>\n",
       "</div>"
      ],
      "text/plain": [
       "                               Doctor  \\\n",
       "0    Dr. Yassin Ibrahim M. El-Shahat    \n",
       "1             Prof. Dr. Iyad Hassan     \n",
       "2                   Dr. Dipak Kamble    \n",
       "3          Dr.Mostafa Kamal Kotb Ali    \n",
       "4          Dr. Hussein Nasser Matlik    \n",
       "..                                ...   \n",
       "202          Mr. Chandrashekar Nandi    \n",
       "203          Dr. Radha Panchapakesan    \n",
       "204          Joseph Basil C. Ruadap     \n",
       "205             Ms. Sikha Anna Sunny    \n",
       "206               Ms. Munmun Pandita    \n",
       "\n",
       "                                              Position  \n",
       "0      Consultant - Nephrology / Chief Medical Officer  \n",
       "1    Consultant - General and Endocrine Surgeon/ He...  \n",
       "2                               Specialist Radiologist  \n",
       "3                      Specialist - Orthopedic Surgery  \n",
       "4    Consultant - Pediatric Neurology and Head of D...  \n",
       "..                                                 ...  \n",
       "202  Physiotherapist & Sports Performance Enhanceme...  \n",
       "203                        Specialist - Anesthesiology  \n",
       "204                                     Physiotherapy   \n",
       "205                                     Physiotherapy   \n",
       "206                                     Physiotherapy   \n",
       "\n",
       "[207 rows x 2 columns]"
      ]
     },
     "execution_count": 7,
     "metadata": {},
     "output_type": "execute_result"
    }
   ],
   "source": [
    "import pandas as pd\n",
    "dfjson = pd.read_json('Doctors1.json')\n",
    "dfjson"
   ]
  }
 ],
 "metadata": {
  "kernelspec": {
   "display_name": "Python 3",
   "language": "python",
   "name": "python3"
  },
  "language_info": {
   "codemirror_mode": {
    "name": "ipython",
    "version": 3
   },
   "file_extension": ".py",
   "mimetype": "text/x-python",
   "name": "python",
   "nbconvert_exporter": "python",
   "pygments_lexer": "ipython3",
   "version": "3.7.6"
  }
 },
 "nbformat": 4,
 "nbformat_minor": 4
}
